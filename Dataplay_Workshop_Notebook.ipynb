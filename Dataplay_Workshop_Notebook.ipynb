{
  "cells": [
    {
      "cell_type": "markdown",
      "metadata": {
        "id": "view-in-github",
        "colab_type": "text"
      },
      "source": [
        "<a href=\"https://colab.research.google.com/github/LeticiaMascarenhas01/Python_estudos_bfd_2025/blob/main/Dataplay_Workshop_Notebook.ipynb\" target=\"_parent\"><img src=\"https://colab.research.google.com/assets/colab-badge.svg\" alt=\"Open In Colab\"/></a>"
      ]
    },
    {
      "cell_type": "markdown",
      "metadata": {
        "id": "o53HVuVGyMy5"
      },
      "source": [
        "# 🎮 Dataplay: Brincando com Dados Abertos\n",
        "Bem-vindo(a)! 👋\n",
        "\n",
        "Neste notebook, você vai criar seu **primeiro mini fluxo de dados** usando o Google Colab.\n",
        "Vamos explorar um conjunto de dados real, descobrir padrões e contar histórias visuais!\n",
        "\n",
        "**Fluxo:** Coleta → Exploração → Limpeza → Visualização → História\n"
      ],
      "id": "o53HVuVGyMy5"
    },
    {
      "cell_type": "code",
      "metadata": {
        "id": "qL79spMbyMy7"
      },
      "source": [
        "# 📦 1. Importando as bibliotecas\n",
        "import pandas as pd\n",
        "import matplotlib.pyplot as plt\n",
        "import seaborn as sns\n",
        "\n",
        "sns.set(style='whitegrid')\n",
        "print('Bibliotecas carregadas com sucesso! 🚀')"
      ],
      "id": "qL79spMbyMy7",
      "execution_count": null,
      "outputs": []
    },
    {
      "cell_type": "code",
      "metadata": {
        "id": "7367gKxoyMy8"
      },
      "source": [
        "# 🌍 2. Escolhendo um conjunto de dados aberto (filmes 🎬)\n",
        "url = 'https://gist.githubusercontent.com/jheer/4dee9b65d5f4cab64235e28d0e4010dc/raw/087cb553be02a0c7c4639cc9124314dd9fc86cac/gistfile1.txt'\n",
        "dados = pd.read_csv(url)\n",
        "dados.head()"
      ],
      "id": "7367gKxoyMy8",
      "execution_count": null,
      "outputs": []
    },
    {
      "cell_type": "code",
      "metadata": {
        "id": "17PBIU4QyMy9"
      },
      "source": [
        "# 🔍 3. Explorando o dataset\n",
        "print('Dimensões:', dados.shape)\n",
        "print('\\nColunas disponíveis:\\n', dados.columns.tolist())\n",
        "print('\\nResumo estatístico:')\n",
        "display(dados.describe(include='all'))\n",
        "print('\\nValores ausentes:')\n",
        "print(dados.isna().sum())"
      ],
      "id": "17PBIU4QyMy9",
      "execution_count": null,
      "outputs": []
    },
    {
      "cell_type": "code",
      "metadata": {
        "id": "2XlIZnTJyMy9"
      },
      "source": [
        "# 🧹 4. Limpeza básica\n",
        "dados = dados.dropna(subset=['title', 'genre', 'rating']) #\n",
        "dados.info()"
      ],
      "id": "2XlIZnTJyMy9",
      "execution_count": null,
      "outputs": []
    },
    {
      "cell_type": "code",
      "metadata": {
        "id": "oKPdyd2-yMy9"
      },
      "source": [
        "# 📊 5. Visualização 1 — Gêneros mais populares\n",
        "plt.figure(figsize=(8,4))\n",
        "sns.countplot(data=dados, x='Major Genre', order=dados['Major Genre'].value_counts().index)\n",
        "plt.title('🎬 Quantidade de filmes por gênero')\n",
        "plt.xticks(rotation=45)\n",
        "plt.show()"
      ],
      "id": "oKPdyd2-yMy9",
      "execution_count": null,
      "outputs": []
    },
    {
      "cell_type": "code",
      "metadata": {
        "id": "TfubBrG4yMy9"
      },
      "source": [
        "# ⭐ 6. Visualização 2 — Nota média por gênero\n",
        "plt.figure(figsize=(8,4))\n",
        "sns.barplot(data=dados, x='Major Genre', y='IMDB Rating')\n",
        "plt.title('⭐ Média de avaliação por gênero')\n",
        "plt.xticks(rotation=45)\n",
        "plt.show()"
      ],
      "id": "TfubBrG4yMy9",
      "execution_count": null,
      "outputs": []
    },
    {
      "cell_type": "code",
      "metadata": {
        "id": "gM2g4PvXyMy9"
      },
      "source": [
        "# 🎨 7. Visualização 3 — Duração x Nota\n",
        "plt.figure(figsize=(6,4))\n",
        "sns.scatterplot(data=dados, x='Running Time (min)', y='IMDB Rating', hue='Major Genre')\n",
        "plt.title('⏱️ Duração x Nota dos Filmes')\n",
        "plt.legend(bbox_to_anchor=(1.05, 1), loc='upper left')\n",
        "plt.show()"
      ],
      "id": "gM2g4PvXyMy9",
      "execution_count": null,
      "outputs": []
    },
    {
      "cell_type": "code",
      "metadata": {
        "id": "O4IFocdCyMy-"
      },
      "source": [],
      "id": "O4IFocdCyMy-",
      "execution_count": null,
      "outputs": []
    },
    {
      "cell_type": "markdown",
      "metadata": {
        "id": "XdG-OrAKyMy-"
      },
      "source": [
        "\n",
        "\n",
        "## 🎯 Mini Desafios Rápidos — IMDb Dataset\n",
        "\n",
        "### 🧩 1. Filme com maior bilheteria nos EUA  \n",
        "💡 Descubra qual filme arrecadou mais em **US Gross**.  \n",
        "**Dica:** use `df['US Gross'].max()` e filtre o título correspondente.\n",
        "\n",
        "---\n",
        "\n",
        "### 🎬 2. Diretor com mais filmes no dataset  \n",
        "💡 Veja quem mais aparece na coluna **Director**.  \n",
        "**Dica:** `df['Director'].value_counts().head(5)`\n",
        "\n",
        "---\n",
        "\n",
        "### 💰 3. Filme mais rentável  \n",
        "💡 Calcule a rentabilidade como **(US Gross / Production Budget)** e veja quem mais lucrou.  \n",
        "**Dica:**  \n",
        "```python\n",
        "df['Rentabilidade'] = df['US Gross'] / df['Production Budget']\n",
        "```\n",
        "---\n",
        "### 🍅 4. Críticos vs público\n",
        "\n",
        "💡 Compare Rotten Tomatoes Rating e IMDB Rating.\n",
        "Dica: use .corr() ou um sns.scatterplot(...).\n",
        "\n",
        "---\n",
        "\n",
        "### ⏱️ 5. Filmes mais longos\n",
        "\n",
        "💡 Mostre os 10 filmes com maior tempo de duração.\n",
        "Dica: ordene df por Running Time (min) em ordem decrescente."
      ],
      "id": "XdG-OrAKyMy-"
    },
    {
      "cell_type": "code",
      "source": [],
      "metadata": {
        "id": "2g5DQ_9e4BVk"
      },
      "id": "2g5DQ_9e4BVk",
      "execution_count": null,
      "outputs": []
    }
  ],
  "metadata": {
    "kernelspec": {
      "display_name": "Python 3",
      "language": "python",
      "name": "python3"
    },
    "language_info": {
      "name": "python",
      "version": "3.x"
    },
    "colab": {
      "provenance": [],
      "include_colab_link": true
    }
  },
  "nbformat": 4,
  "nbformat_minor": 5
}